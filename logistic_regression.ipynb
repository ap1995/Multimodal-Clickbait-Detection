{
 "cells": [
  {
   "cell_type": "code",
   "execution_count": 1,
   "metadata": {},
   "outputs": [],
   "source": [
    "import jsonlines\n",
    "import re\n",
    "import numpy as np\n",
    "import pandas as pd\n",
    "from sklearn.metrics import accuracy_score, precision_score\n",
    "from sklearn.feature_extraction.text import CountVectorizer, TfidfTransformer\n",
    "from sklearn import linear_model\n",
    "from tqdm import tqdm"
   ]
  },
  {
   "cell_type": "code",
   "execution_count": 2,
   "metadata": {},
   "outputs": [],
   "source": [
    "def clean_str(string):\n",
    "    \"\"\"\n",
    "    Tokenization/string cleaning for all datasets except for SST.\n",
    "    Original taken from https://github.com/yoonkim/CNN_sentence/blob/master/process_data.py\n",
    "    \"\"\"\n",
    "    string = re.sub(r\"[^A-Za-z0-9(),!?\\'\\`]\", \" \", string)\n",
    "    string = re.sub(r\"\\'s\", \" \\'s\", string)\n",
    "    string = re.sub(r\"\\'ve\", \" \\'ve\", string)\n",
    "    string = re.sub(r\"n\\'t\", \" n\\'t\", string)\n",
    "    string = re.sub(r\"\\'re\", \" \\'re\", string)\n",
    "    string = re.sub(r\"\\'d\", \" \\'d\", string)\n",
    "    string = re.sub(r\"\\'ll\", \" \\'ll\", string)\n",
    "    string = re.sub(r\",\", \" \", string)\n",
    "    string = re.sub(r\"!\", \" ! \", string)\n",
    "    string = re.sub(r\"\\(\", \" \\( \", string)\n",
    "    string = re.sub(r\"\\)\", \" \\) \", string)\n",
    "    string = re.sub(r\"\\?\", \" \\? \", string)\n",
    "    string = re.sub(r\"\\s{2,}\", \" \", string)\n",
    "    string = re.sub(r\"@\", \"\", string)\n",
    "    return string.lower()"
   ]
  },
  {
   "cell_type": "code",
   "execution_count": 3,
   "metadata": {},
   "outputs": [],
   "source": [
    "count = 0\n",
    "train_data = []\n",
    "valid_data = []\n",
    "test_data = []\n",
    "with jsonlines.open('instances.jsonl') as reader:\n",
    "    for obj in reader.iter(type=dict, skip_invalid=True):\n",
    "        count += 1\n",
    "        if (count > 15630 and count <= 17584):\n",
    "            valid_data.append(obj)\n",
    "        if (count > 17584):\n",
    "            test_data.append(obj)\n",
    "        if(count<=15630):\n",
    "            train_data.append(obj)\n",
    "\n",
    "count = 0\n",
    "truth_data = []\n",
    "with jsonlines.open('truth.jsonl') as reader:\n",
    "    for obj in reader.iter(type=dict, skip_invalid=True):\n",
    "        truth_data.append(obj)\n",
    "\n"
   ]
  },
  {
   "cell_type": "code",
   "execution_count": 6,
   "metadata": {},
   "outputs": [],
   "source": [
    "train_data_df = pd.DataFrame.from_dict(train_data)\n",
    "truth_data_df = pd.DataFrame.from_dict(truth_data)\n",
    "train = pd.merge(train_data_df, truth_data_df, on=\"id\")"
   ]
  },
  {
   "cell_type": "code",
   "execution_count": 7,
   "metadata": {},
   "outputs": [
    {
     "name": "stdout",
     "output_type": "stream",
     "text": [
      "Training data length 15630\n"
     ]
    }
   ],
   "source": [
    "data = train.values\n",
    "print(\"Training data length\", len(data))"
   ]
  },
  {
   "cell_type": "code",
   "execution_count": 9,
   "metadata": {},
   "outputs": [],
   "source": [
    "df = []\n",
    "y = []"
   ]
  },
  {
   "cell_type": "code",
   "execution_count": 10,
   "metadata": {},
   "outputs": [],
   "source": [
    "for i in data:\n",
    "    if(i[9]==\"clickbait\"):\n",
    "        y.append(1)\n",
    "    else:\n",
    "        y.append(0)\n",
    "\n",
    "textFeatures = [\"postText\", \"targetCaptions\", \"targetParagraphs\", \"targetTitle\", \"targetKeywords\", \"targetDescription\"]\n",
    "textColumns = train[textFeatures]\n",
    "textColumns = textColumns.values.tolist()"
   ]
  },
  {
   "cell_type": "code",
   "execution_count": 24,
   "metadata": {},
   "outputs": [
    {
     "name": "stdout",
     "output_type": "stream",
     "text": [
      "[['UK’s response to modern slavery leaving victims destitute while abusers go free'], ['modern-slavery-rex.jpg'], ['Thousands of modern slavery victims have\\xa0not come forward, while others who have chosen to report their enslavers have ended up destitute as a result of insufficient support, say\\xa0MPs', '“Inexcusable” failures in the UK’s system for dealing with modern slavery are\\xa0leaving victims reduced to destitution while their abusers go free because they are not adequately supported to testify against them, an alarming report has warned.', 'Thousands of\\xa0victims\\xa0have not come forward, while others who have chosen to give evidence against their enslavers have ended up destitute as a result of insufficient support, according to\\xa0a report published\\xa0today by\\xa0the Work and Pensions Committee.', 'It is estimated there are between 10,000 and 13,000 victims of modern slavery in the UK, but the report\\xa0warns that failings in the current mechanism mean\\xa0that once they are identified, they have no automatic formal immigration status or rights.', 'Weak and uncoordinated frontline support means victims are often faced with a total lack of understanding or even recognition of their situation, which in turn has a negative impact on the number of successful prosecutions of slave masters, according to the findings.', 'One, Client M, told the Committee he managed to escape from his traffickers, but it took four years before someone recognised that he was a potential victim of modern slavery. According to the report, his adviser in the Jobcentre, who knew his story, did not pick up on his situation, and it took four years before someone finally offered him the help he required.', 'The report also found that no data is collected on victims once they leave the National Referral Mechanism (NRM) – the UK’s framework for identifying victims of human trafficking and ensuring they receive protection and support – and that the recording of data that is collected was “generally substandard”.', 'The Committee said it was “unacceptable” that the Government did not monitor the re-trafficking of victims and urged that reform to the NRM must include the recording of instances where victims have been processed through the framework more than once.', 'As part of the inquiry, Baroness Butler-Sloss, Trustee of the Human Trafficking Foundation who helped draft the modern slavery bill in 2014, said the outcome of the NRM\\xa0process was “nothing but a piece of paper” to victims.', '“It is an extremely unattractive anomaly and an extremely expensive process putting a person through the NRM to get a positive outcome that everybody accepts that person is the victim of an appalling crime,” she added.', '“At that stage, having spent all that money, having gone through all that process, there is no result except a piece of paper.”', 'Problems surrounding asylum rights were also noted in the report, in its findings that\\xa0being\\xa0a victim of slavery through the NRM confers no equivalent right to remain for any period, while\\xa0recognition as a refugee grants an initial period of five years’ leave to remain in the UK.', 'The damning findings come less than a year\\xa0after Theresa May announced\\xa0on entering Downing Street\\xa0that\\xa0Britain would\\xa0lead the fight against modern slavery,\\xa0calling\\xa0it “the greatest human rights issue of our time”, and pledging a £33m\\xa0boost to coordinating\\xa0the Government response to the issue.', 'The inquiry, launched at the request of the UK’s Independent Anti-Slavery Commissioner after he wrote to the Committee expressing his concerns that the support for victims of modern slavery was “inadequate”, made a number of urgent\\xa0recommendations.', 'It suggested that all confirmed victims of modern slavery should be given at least one year’s leave to remain with a personal plan for their recovery, which it said should act as a “social passport” to support for at least the 12-month period of leave to remain.', 'Training on how to spot signs of slavery and deal sensitively with identified victims should\\xa0be greatly improved among frontline Department for Work and Pensions (DWP) staff, who are often not aware of modern slavery, the Committee said.', 'The report also urged that the Government must undertake an urgent review of the benefit support available to victims, including those who are assisting the police with investigations.', 'Kate Roberts, head of office at the Human Trafficking Foundation, welcomed the findings\\xa0and said changes were “much needed” in a system that currently leaves victims of modern slavery without support and unable to unpack the trauma they’ve been subjected to.', '“It’s\\xa0good to see such a detailed report that really shines a light on what happens to victims after\\xa0the identification of modern slavery. I really welcome the\\xa0recommendations – they are much needed,\"\\xa0Ms Roberts told The Independent.', '\"At the moment the \\'recovery period\\' is actually the period during which it is being\\xa0decided\\xa0whether they are victims or\\xa0not. I don\\'t see how it is a recovery period. If\\xa0there\\'s\\xa0so much uncertainty in your life and you\\'ve come from this extreme trauma, I don\\'t think you can really begin to unpack that trauma and recover when you\\'ve got all the uncertainty around the corner.', \"“Until now, our whole system has just focused on the identification of victims. They go through this really quite traumatic process of having to disclose what’s happened to them and almost relive it, and then the decision is made that they are a victim and it doesn’t really make a difference. They think now they’'ll be okay because the Government believes them, but in fact\\xa0it often doesn’t mean anything.\", '“If these recommendations\\xa0were implemented it really would change that. Many victims will take longer than a year to recover, but at least they would have time to get relevant advice\\xa0and put the necessary applications in.”', 'In light of the findings,\\xa0chair of the Committee\\xa0Frank Field MP\\xa0said: “While we applaud the leading role the UK has taken in tackling this ‘barbaric crime’, as the Prime Minister has called it, when you consider what is at stake, there is a shocking lack of awareness and co-ordination in the frontline services dealing with modern slavery.', '“What these people go through is unimaginable, and yet it is happening, here and now, and our response seems almost lackadaisical: a paper exercise earning you recognition as having been enslaved, which then entitles you to almost nothing as far as we can see.\\xa0', '“We don’t even record instances where the same person is thrown back into this hell, even though that is surely the clearest sign of the failures in our response. No society worth its salt can allow this to continue, or fail to support those who fall victim.”', 'Mr Field urged the Prime Minister to go further in the Modern Slavery Act she brought in as Home Secretary in 2015, by conducting an urgent review and putting in place some “basic minimum safeguards” in order to support victims.', '“The Prime Minister now needs to open up a further front in her Modern Slavery Act,” he said.', '“The incoming Government must conduct an urgent review of our national response and put in place some basic minimum safeguards, status\\xa0that will allow a person to begin to rebuild a life, testify against their abuser if they feel able\\xa0and, above all, be protected from the unimaginable but real possibility of falling victim again.”'], '‘Inexcusable’ failures in UK’s response to modern slavery leaving victims destitute while abusers go free, report warns', 'modern slavery, Department For Work And Pensions, People Trafficking, Frank Field, Home News, UK, News', '“Inexcusable” failures in the UK’s system for dealing with modern slavery are\\xa0leaving victims reduced to destitution while their abusers go free because they are not adequately supported to testify against them, an alarming report has warned.']\n"
     ]
    }
   ],
   "source": [
    "print(textColumns[0])"
   ]
  },
  {
   "cell_type": "code",
   "execution_count": 11,
   "metadata": {},
   "outputs": [],
   "source": [
    "for i in range(len(textColumns)):\n",
    "    text = []\n",
    "    for j in range(0,5):\n",
    "        k = textColumns[i][j]\n",
    "        if (j == 3 or j == 4):\n",
    "            text.append(k)\n",
    "        else:\n",
    "            text+=k\n",
    "    words = \"\"\n",
    "    for string in text:\n",
    "        string = clean_str(string)\n",
    "        words +=\" \".join(string.split())\n",
    "    df+=[words]"
   ]
  },
  {
   "cell_type": "code",
   "execution_count": 23,
   "metadata": {},
   "outputs": [
    {
     "name": "stdout",
     "output_type": "stream",
     "text": [
      "uk s response to modern slavery leaving victims destitute while abusers go freemodern slavery rex jpgthousands of modern slavery victims have not come forward while others who have chosen to report their enslavers have ended up destitute as a result of insufficient support say mpsinexcusable failures in the uk s system for dealing with modern slavery are leaving victims reduced to destitution while their abusers go free because they are not adequately supported to testify against them an alarming report has warnedthousands of victims have not come forward while others who have chosen to give evidence against their enslavers have ended up destitute as a result of insufficient support according to a report published today by the work and pensions committeeit is estimated there are between 10 000 and 13 000 victims of modern slavery in the uk but the report warns that failings in the current mechanism mean that once they are identified they have no automatic formal immigration status or rightsweak and uncoordinated frontline support means victims are often faced with a total lack of understanding or even recognition of their situation which in turn has a negative impact on the number of successful prosecutions of slave masters according to the findingsone client m told the committee he managed to escape from his traffickers but it took four years before someone recognised that he was a potential victim of modern slavery according to the report his adviser in the jobcentre who knew his story did not pick up on his situation and it took four years before someone finally offered him the help he requiredthe report also found that no data is collected on victims once they leave the national referral mechanism \\( nrm \\) the uk s framework for identifying victims of human trafficking and ensuring they receive protection and support and that the recording of data that is collected was generally substandardthe committee said it was unacceptable that the government did not monitor the re trafficking of victims and urged that reform to the nrm must include the recording of instances where victims have been processed through the framework more than onceas part of the inquiry baroness butler sloss trustee of the human trafficking foundation who helped draft the modern slavery bill in 2014 said the outcome of the nrm process was nothing but a piece of paper to victimsit is an extremely unattractive anomaly and an extremely expensive process putting a person through the nrm to get a positive outcome that everybody accepts that person is the victim of an appalling crime she addedat that stage having spent all that money having gone through all that process there is no result except a piece of paperproblems surrounding asylum rights were also noted in the report in its findings that being a victim of slavery through the nrm confers no equivalent right to remain for any period while recognition as a refugee grants an initial period of five years leave to remain in the ukthe damning findings come less than a year after theresa may announced on entering downing street that britain would lead the fight against modern slavery calling it the greatest human rights issue of our time and pledging a 33m boost to coordinating the government response to the issuethe inquiry launched at the request of the uk s independent anti slavery commissioner after he wrote to the committee expressing his concerns that the support for victims of modern slavery was inadequate made a number of urgent recommendationsit suggested that all confirmed victims of modern slavery should be given at least one year s leave to remain with a personal plan for their recovery which it said should act as a social passport to support for at least the 12 month period of leave to remaintraining on how to spot signs of slavery and deal sensitively with identified victims should be greatly improved among frontline department for work and pensions \\( dwp \\) staff who are often not aware of modern slavery the committee saidthe report also urged that the government must undertake an urgent review of the benefit support available to victims including those who are assisting the police with investigationskate roberts head of office at the human trafficking foundation welcomed the findings and said changes were much needed in a system that currently leaves victims of modern slavery without support and unable to unpack the trauma they ve been subjected toit s good to see such a detailed report that really shines a light on what happens to victims after the identification of modern slavery i really welcome the recommendations they are much needed ms roberts told the independentat the moment the 'recovery period' is actually the period during which it is being decided whether they are victims or not i do n't see how it is a recovery period if there 's so much uncertainty in your life and you 've come from this extreme trauma i do n't think you can really begin to unpack that trauma and recover when you 've got all the uncertainty around the corneruntil now our whole system has just focused on the identification of victims they go through this really quite traumatic process of having to disclose what s happened to them and almost relive it and then the decision is made that they are a victim and it doesn t really make a difference they think now they 'll be okay because the government believes them but in fact it often doesn t mean anythingif these recommendations were implemented it really would change that many victims will take longer than a year to recover but at least they would have time to get relevant advice and put the necessary applications inin light of the findings chair of the committee frank field mp said while we applaud the leading role the uk has taken in tackling this barbaric crime as the prime minister has called it when you consider what is at stake there is a shocking lack of awareness and co ordination in the frontline services dealing with modern slaverywhat these people go through is unimaginable and yet it is happening here and now and our response seems almost lackadaisical a paper exercise earning you recognition as having been enslaved which then entitles you to almost nothing as far as we can seewe don t even record instances where the same person is thrown back into this hell even though that is surely the clearest sign of the failures in our response no society worth its salt can allow this to continue or fail to support those who fall victimmr field urged the prime minister to go further in the modern slavery act she brought in as home secretary in 2015 by conducting an urgent review and putting in place some basic minimum safeguards in order to support victimsthe prime minister now needs to open up a further front in her modern slavery act he saidthe incoming government must conduct an urgent review of our national response and put in place some basic minimum safeguards status that will allow a person to begin to rebuild a life testify against their abuser if they feel able and above all be protected from the unimaginable but real possibility of falling victim againinexcusable failures in uk s response to modern slavery leaving victims destitute while abusers go free report warnsmodern slavery department for work and pensions people trafficking frank field home news uk news\n"
     ]
    }
   ],
   "source": [
    "print(df[0])"
   ]
  },
  {
   "cell_type": "code",
   "execution_count": 32,
   "metadata": {},
   "outputs": [
    {
     "name": "stdout",
     "output_type": "stream",
     "text": [
      "(15630, 375302)\n"
     ]
    },
    {
     "data": {
      "text/plain": [
       "LinearRegression(copy_X=True, fit_intercept=True, n_jobs=1, normalize=False)"
      ]
     },
     "execution_count": 32,
     "metadata": {},
     "output_type": "execute_result"
    }
   ],
   "source": [
    "vectorizer = CountVectorizer(input='content', lowercase=False, analyzer='word', stop_words='english')\n",
    "X = vectorizer.fit_transform(df)\n",
    "\n",
    "tfidf_transformer = TfidfTransformer()\n",
    "X_train_tfidf = tfidf_transformer.fit_transform(X)\n",
    "print(X_train_tfidf.shape)\n",
    "\n",
    "model = linear_model.LinearRegression()\n",
    "model.fit(X_train_tfidf, y)"
   ]
  },
  {
   "cell_type": "code",
   "execution_count": 35,
   "metadata": {},
   "outputs": [
    {
     "name": "stderr",
     "output_type": "stream",
     "text": [
      "/anaconda3/lib/python3.6/site-packages/sklearn/cross_validation.py:41: DeprecationWarning: This module was deprecated in version 0.18 in favor of the model_selection module into which all the refactored classes and functions are moved. Also note that the interface of the new CV iterators are different from that of this module. This module will be removed in 0.20.\n",
      "  \"This module will be removed in 0.20.\", DeprecationWarning)\n"
     ]
    },
    {
     "data": {
      "text/plain": [
       "array([-6.67997796, -8.83668459, -6.15611098, -7.53369423, -6.20383073,\n",
       "       -1.29161184])"
      ]
     },
     "execution_count": 35,
     "metadata": {},
     "output_type": "execute_result"
    }
   ],
   "source": [
    "from sklearn.cross_validation import cross_val_score, cross_val_predict\n",
    "cross_val_score(model,X_train_tfidf , y, cv=6)"
   ]
  },
  {
   "cell_type": "code",
   "execution_count": 34,
   "metadata": {},
   "outputs": [
    {
     "name": "stdout",
     "output_type": "stream",
     "text": [
      "(1, 375302)\n"
     ]
    }
   ],
   "source": [
    "print((X_train_tfidf[0].shape))"
   ]
  },
  {
   "cell_type": "code",
   "execution_count": 13,
   "metadata": {},
   "outputs": [
    {
     "name": "stdout",
     "output_type": "stream",
     "text": [
      "Validation\n",
      "Y_valid length 17584\n"
     ]
    }
   ],
   "source": [
    "print(\"Validation\")\n",
    "valid_data_df = pd.DataFrame.from_dict(valid_data)\n",
    "valid = pd.merge(valid_data_df, truth_data_df, on=\"id\")\n",
    "vdata = valid.append(train).values\n",
    "\n",
    "y_valid = []\n",
    "for i in vdata:\n",
    "    if (i[9] == \"clickbait\"):\n",
    "        y_valid.append(1)\n",
    "    if (i[9] == \"no-clickbait\"):\n",
    "        y_valid.append(0)\n",
    "\n",
    "y_valid = pd.DataFrame(y_valid)\n",
    "print(\"Y_valid length\", len(y_valid))\n",
    "vdata = valid[textFeatures].append(train[textFeatures]).values.tolist()"
   ]
  },
  {
   "cell_type": "code",
   "execution_count": 14,
   "metadata": {},
   "outputs": [],
   "source": [
    "df_valid = []\n",
    "for i in range(len(vdata)):\n",
    "    text = []\n",
    "    for j in range(0, 5):\n",
    "        k = vdata[i][j]\n",
    "        if (j == 3 or j == 4):\n",
    "            text.append(k)\n",
    "        else:\n",
    "            text += k\n",
    "    words = \"\"\n",
    "    for string in text:\n",
    "        string = clean_str(string)\n",
    "        words += \" \".join(string.split())\n",
    "    df_valid += [words]\n",
    "\n"
   ]
  },
  {
   "cell_type": "code",
   "execution_count": 37,
   "metadata": {},
   "outputs": [
    {
     "name": "stdout",
     "output_type": "stream",
     "text": [
      "Validation Data Accuracy  0.9308462238398544\n"
     ]
    }
   ],
   "source": [
    "# a_train, a_val, b_train, b_val = train_test_split(df_valid, y_valid, test_size = 0.11, random_state = 42)\n",
    "predicted = []\n",
    "for v in df_valid:\n",
    "    valid_X = vectorizer.transform([v])\n",
    "    X_valid_tfidf = tfidf_transformer.transform(valid_X)\n",
    "    predicted.append(model.predict(X_valid_tfidf).round())\n",
    "\n",
    "scores = accuracy_score(y_valid, predicted)\n",
    "print(\"Validation Data Accuracy \", scores)"
   ]
  },
  {
   "cell_type": "code",
   "execution_count": 16,
   "metadata": {},
   "outputs": [
    {
     "name": "stdout",
     "output_type": "stream",
     "text": [
      "length of test data\n",
      "1954\n"
     ]
    }
   ],
   "source": [
    "### TEST DATA ###\n",
    "\n",
    "test_data_df = pd.DataFrame.from_dict(test_data)\n",
    "test = pd.merge(test_data_df, truth_data_df, on=\"id\")\n",
    "tdata = test.values\n",
    "print(\"length of test data\")\n",
    "print(len(tdata))\n",
    "\n",
    "y_test =[]\n",
    "df_test =[]\n",
    "\n",
    "for i in tdata:\n",
    "    if(i[9]==\"clickbait\"):\n",
    "        y_test.append(1)\n",
    "    if(i[9]==\"no-clickbait\"):\n",
    "        y_test.append(0)\n",
    "\n",
    "textColumns_test = test[textFeatures]\n",
    "textColumns_test = textColumns_test.values.tolist()\n",
    "\n",
    "for i in range(len(textColumns_test)):\n",
    "    text = []\n",
    "    for j in range(0,5):\n",
    "        k = textColumns_test[i][j]\n",
    "        if (j == 3 or j == 4):\n",
    "            text.append(k)\n",
    "        else:\n",
    "            text+=k\n",
    "    words = \"\"\n",
    "    for string in text:\n",
    "        string = clean_str(string)\n",
    "        words +=\" \".join(string.split())\n",
    "    df_test+=[words]"
   ]
  },
  {
   "cell_type": "code",
   "execution_count": 17,
   "metadata": {},
   "outputs": [
    {
     "name": "stdout",
     "output_type": "stream",
     "text": [
      "Test Data Accuracy  0.4048106448311157\n"
     ]
    }
   ],
   "source": [
    "predicted = []\n",
    "for t in df_test:\n",
    "    test_X = vectorizer.transform([t])\n",
    "    X_test_tfidf = tfidf_transformer.transform(test_X)\n",
    "    predicted.append(model.predict(X_test_tfidf).round())\n",
    "\n",
    "scores = accuracy_score(y_test, predicted)\n",
    "print(\"Test Data Accuracy \", scores)"
   ]
  },
  {
   "cell_type": "code",
   "execution_count": 36,
   "metadata": {},
   "outputs": [
    {
     "ename": "ValueError",
     "evalue": "Cannot have number of folds n_folds=3 greater than the number of samples: 1.",
     "output_type": "error",
     "traceback": [
      "\u001b[0;31m---------------------------------------------------------------------------\u001b[0m",
      "\u001b[0;31mValueError\u001b[0m                                Traceback (most recent call last)",
      "\u001b[0;32m<ipython-input-36-194c99c8dd73>\u001b[0m in \u001b[0;36m<module>\u001b[0;34m()\u001b[0m\n\u001b[0;32m----> 1\u001b[0;31m \u001b[0mcross_val_predict\u001b[0m\u001b[0;34m(\u001b[0m\u001b[0mmodel\u001b[0m\u001b[0;34m,\u001b[0m\u001b[0mX_test_tfidf\u001b[0m\u001b[0;34m)\u001b[0m\u001b[0;34m\u001b[0m\u001b[0m\n\u001b[0m",
      "\u001b[0;32m/anaconda3/lib/python3.6/site-packages/sklearn/cross_validation.py\u001b[0m in \u001b[0;36mcross_val_predict\u001b[0;34m(estimator, X, y, cv, n_jobs, verbose, fit_params, pre_dispatch)\u001b[0m\n\u001b[1;32m   1374\u001b[0m     \u001b[0mX\u001b[0m\u001b[0;34m,\u001b[0m \u001b[0my\u001b[0m \u001b[0;34m=\u001b[0m \u001b[0mindexable\u001b[0m\u001b[0;34m(\u001b[0m\u001b[0mX\u001b[0m\u001b[0;34m,\u001b[0m \u001b[0my\u001b[0m\u001b[0;34m)\u001b[0m\u001b[0;34m\u001b[0m\u001b[0m\n\u001b[1;32m   1375\u001b[0m \u001b[0;34m\u001b[0m\u001b[0m\n\u001b[0;32m-> 1376\u001b[0;31m     \u001b[0mcv\u001b[0m \u001b[0;34m=\u001b[0m \u001b[0mcheck_cv\u001b[0m\u001b[0;34m(\u001b[0m\u001b[0mcv\u001b[0m\u001b[0;34m,\u001b[0m \u001b[0mX\u001b[0m\u001b[0;34m,\u001b[0m \u001b[0my\u001b[0m\u001b[0;34m,\u001b[0m \u001b[0mclassifier\u001b[0m\u001b[0;34m=\u001b[0m\u001b[0mis_classifier\u001b[0m\u001b[0;34m(\u001b[0m\u001b[0mestimator\u001b[0m\u001b[0;34m)\u001b[0m\u001b[0;34m)\u001b[0m\u001b[0;34m\u001b[0m\u001b[0m\n\u001b[0m\u001b[1;32m   1377\u001b[0m     \u001b[0;31m# We clone the estimator to make sure that all the folds are\u001b[0m\u001b[0;34m\u001b[0m\u001b[0;34m\u001b[0m\u001b[0m\n\u001b[1;32m   1378\u001b[0m     \u001b[0;31m# independent, and that it is pickle-able.\u001b[0m\u001b[0;34m\u001b[0m\u001b[0;34m\u001b[0m\u001b[0m\n",
      "\u001b[0;32m/anaconda3/lib/python3.6/site-packages/sklearn/cross_validation.py\u001b[0m in \u001b[0;36mcheck_cv\u001b[0;34m(cv, X, y, classifier)\u001b[0m\n\u001b[1;32m   1841\u001b[0m             \u001b[0;32melse\u001b[0m\u001b[0;34m:\u001b[0m\u001b[0;34m\u001b[0m\u001b[0m\n\u001b[1;32m   1842\u001b[0m                 \u001b[0mn_samples\u001b[0m \u001b[0;34m=\u001b[0m \u001b[0mX\u001b[0m\u001b[0;34m.\u001b[0m\u001b[0mshape\u001b[0m\u001b[0;34m[\u001b[0m\u001b[0;36m0\u001b[0m\u001b[0;34m]\u001b[0m\u001b[0;34m\u001b[0m\u001b[0m\n\u001b[0;32m-> 1843\u001b[0;31m             \u001b[0mcv\u001b[0m \u001b[0;34m=\u001b[0m \u001b[0mKFold\u001b[0m\u001b[0;34m(\u001b[0m\u001b[0mn_samples\u001b[0m\u001b[0;34m,\u001b[0m \u001b[0mcv\u001b[0m\u001b[0;34m)\u001b[0m\u001b[0;34m\u001b[0m\u001b[0m\n\u001b[0m\u001b[1;32m   1844\u001b[0m     \u001b[0;32mreturn\u001b[0m \u001b[0mcv\u001b[0m\u001b[0;34m\u001b[0m\u001b[0m\n\u001b[1;32m   1845\u001b[0m \u001b[0;34m\u001b[0m\u001b[0m\n",
      "\u001b[0;32m/anaconda3/lib/python3.6/site-packages/sklearn/cross_validation.py\u001b[0m in \u001b[0;36m__init__\u001b[0;34m(self, n, n_folds, shuffle, random_state)\u001b[0m\n\u001b[1;32m    335\u001b[0m     def __init__(self, n, n_folds=3, shuffle=False,\n\u001b[1;32m    336\u001b[0m                  random_state=None):\n\u001b[0;32m--> 337\u001b[0;31m         \u001b[0msuper\u001b[0m\u001b[0;34m(\u001b[0m\u001b[0mKFold\u001b[0m\u001b[0;34m,\u001b[0m \u001b[0mself\u001b[0m\u001b[0;34m)\u001b[0m\u001b[0;34m.\u001b[0m\u001b[0m__init__\u001b[0m\u001b[0;34m(\u001b[0m\u001b[0mn\u001b[0m\u001b[0;34m,\u001b[0m \u001b[0mn_folds\u001b[0m\u001b[0;34m,\u001b[0m \u001b[0mshuffle\u001b[0m\u001b[0;34m,\u001b[0m \u001b[0mrandom_state\u001b[0m\u001b[0;34m)\u001b[0m\u001b[0;34m\u001b[0m\u001b[0m\n\u001b[0m\u001b[1;32m    338\u001b[0m         \u001b[0mself\u001b[0m\u001b[0;34m.\u001b[0m\u001b[0midxs\u001b[0m \u001b[0;34m=\u001b[0m \u001b[0mnp\u001b[0m\u001b[0;34m.\u001b[0m\u001b[0marange\u001b[0m\u001b[0;34m(\u001b[0m\u001b[0mn\u001b[0m\u001b[0;34m)\u001b[0m\u001b[0;34m\u001b[0m\u001b[0m\n\u001b[1;32m    339\u001b[0m         \u001b[0;32mif\u001b[0m \u001b[0mshuffle\u001b[0m\u001b[0;34m:\u001b[0m\u001b[0;34m\u001b[0m\u001b[0m\n",
      "\u001b[0;32m/anaconda3/lib/python3.6/site-packages/sklearn/cross_validation.py\u001b[0m in \u001b[0;36m__init__\u001b[0;34m(self, n, n_folds, shuffle, random_state)\u001b[0m\n\u001b[1;32m    260\u001b[0m             raise ValueError(\n\u001b[1;32m    261\u001b[0m                 (\"Cannot have number of folds n_folds={0} greater\"\n\u001b[0;32m--> 262\u001b[0;31m                  \" than the number of samples: {1}.\").format(n_folds, n))\n\u001b[0m\u001b[1;32m    263\u001b[0m \u001b[0;34m\u001b[0m\u001b[0m\n\u001b[1;32m    264\u001b[0m         \u001b[0;32mif\u001b[0m \u001b[0;32mnot\u001b[0m \u001b[0misinstance\u001b[0m\u001b[0;34m(\u001b[0m\u001b[0mshuffle\u001b[0m\u001b[0;34m,\u001b[0m \u001b[0mbool\u001b[0m\u001b[0;34m)\u001b[0m\u001b[0;34m:\u001b[0m\u001b[0;34m\u001b[0m\u001b[0m\n",
      "\u001b[0;31mValueError\u001b[0m: Cannot have number of folds n_folds=3 greater than the number of samples: 1."
     ]
    }
   ],
   "source": [
    "cross_val_predict(model,X_test_tfidf)"
   ]
  },
  {
   "cell_type": "code",
   "execution_count": null,
   "metadata": {},
   "outputs": [],
   "source": []
  }
 ],
 "metadata": {
  "kernelspec": {
   "display_name": "Python 3",
   "language": "python",
   "name": "python3"
  },
  "language_info": {
   "codemirror_mode": {
    "name": "ipython",
    "version": 3
   },
   "file_extension": ".py",
   "mimetype": "text/x-python",
   "name": "python",
   "nbconvert_exporter": "python",
   "pygments_lexer": "ipython3",
   "version": "3.6.4"
  }
 },
 "nbformat": 4,
 "nbformat_minor": 2
}
