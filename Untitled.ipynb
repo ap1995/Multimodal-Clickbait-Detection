{
 "cells": [
  {
   "cell_type": "code",
   "execution_count": 11,
   "metadata": {},
   "outputs": [
    {
     "name": "stdout",
     "output_type": "stream",
     "text": [
      "Requirement already satisfied: jsonlines in /home/ashwini/.local/lib/python3.5/site-packages\r\n",
      "Requirement already satisfied: six in /usr/local/lib/python3.5/dist-packages (from jsonlines)\r\n"
     ]
    }
   ],
   "source": [
    "!pip3 install jsonlines"
   ]
  },
  {
   "cell_type": "code",
   "execution_count": 12,
   "metadata": {},
   "outputs": [
    {
     "ename": "ImportError",
     "evalue": "No module named jsonlines",
     "output_type": "error",
     "traceback": [
      "\u001b[0;31m---------------------------------------------------------------------------\u001b[0m",
      "\u001b[0;31mImportError\u001b[0m                               Traceback (most recent call last)",
      "\u001b[0;32m<ipython-input-12-41cca413833e>\u001b[0m in \u001b[0;36m<module>\u001b[0;34m()\u001b[0m\n\u001b[0;32m----> 1\u001b[0;31m \u001b[0;32mimport\u001b[0m \u001b[0mjsonlines\u001b[0m\u001b[0;34m\u001b[0m\u001b[0m\n\u001b[0m\u001b[1;32m      2\u001b[0m \u001b[0;34m\u001b[0m\u001b[0m\n\u001b[1;32m      3\u001b[0m \u001b[0mcount\u001b[0m \u001b[0;34m=\u001b[0m \u001b[0;36m0\u001b[0m\u001b[0;34m\u001b[0m\u001b[0m\n\u001b[1;32m      4\u001b[0m \u001b[0mtrain_data\u001b[0m \u001b[0;34m=\u001b[0m \u001b[0;34m[\u001b[0m\u001b[0;34m]\u001b[0m\u001b[0;34m\u001b[0m\u001b[0m\n\u001b[1;32m      5\u001b[0m \u001b[0mvalid_data\u001b[0m \u001b[0;34m=\u001b[0m \u001b[0;34m[\u001b[0m\u001b[0;34m]\u001b[0m\u001b[0;34m\u001b[0m\u001b[0m\n",
      "\u001b[0;31mImportError\u001b[0m: No module named jsonlines"
     ]
    }
   ],
   "source": [
    "import jsonlines\n",
    "\n",
    "count = 0\n",
    "train_data = []\n",
    "valid_data = []\n",
    "test_data = []\n",
    "with jsonlines.open('instances.jsonl') as reader:\n",
    "    for obj in reader.iter(type=dict, skip_invalid=True):\n",
    "        train_data.append(obj)\n",
    "        count += 1\n",
    "        if (count >= 15630 and count <= 17584):\n",
    "            valid_data.append(obj)\n",
    "        if (count > 17584):\n",
    "            test_data.append(obj)\n",
    "# print(len(train))\n",
    "# print(len(valid))\n",
    "# print(len(test))\n",
    "count = 0\n",
    "train_truth = []\n",
    "valid_truth = []\n",
    "test_truth = []\n",
    "with jsonlines.open('truth.jsonl') as reader:\n",
    "    for obj in reader.iter(type=dict, skip_invalid=True):\n",
    "        train_truth.append(obj)\n",
    "        count += 1\n",
    "        if (count >= 15630 and count <= 17584):\n",
    "            valid_truth.append(obj)\n",
    "        if (count > 17584):\n",
    "            test_truth.append(obj)\n",
    "\n",
    "output_file = 'predictions.txt'"
   ]
  },
  {
   "cell_type": "code",
   "execution_count": null,
   "metadata": {},
   "outputs": [],
   "source": [
    "def clean(string):\n",
    "    #Clean function from https://github.com/clickbait-challenge/torpedo/blob/master/clickbait_regr.py\n",
    "    string = string.replace(\"'\", \" \")\n",
    "    string = string.replace(\"  \", \" \")\n",
    "    words = string.lower().split(' ')\n",
    "    words = [w for w in words if not w.startswith('@')]\n",
    "    words = [w for w in words if not w.startswith('#')]\n",
    "    words = [w for w in words if not w.startswith('rt')]\n",
    "    return ' '.join(words)"
   ]
  },
  {
   "cell_type": "code",
   "execution_count": null,
   "metadata": {},
   "outputs": [],
   "source": [
    "#!/usr/bin/env python\n",
    "\n",
    "import jsonlines\n",
    "from pprint import pprint\n",
    "import unicodedata\n",
    "import csv\n",
    "import numpy as np\n",
    "from sklearn_pandas import DataFrameMapper\n",
    "from sklearn.preprocessing import StandardScaler\n",
    "import pandas as pd\n",
    "from sklearn.metrics import accuracy_score\n",
    "from sklearn.feature_extraction.text import CountVectorizer, TfidfTransformer\n",
    "from sklearn.svm import LinearSVC\n",
    "from sklearn import linear_model\n",
    "from tqdm import tqdm\n",
    "\n",
    "\n",
    "def run(train_data, valid_data, test_data, train_truth, valid_truth, test_truth):\n",
    "    train_data_df = pd.DataFrame.from_dict(train_data)\n",
    "    train_truth_df = pd.DataFrame.from_dict(train_truth)\n",
    "    train = pd.merge(train_data_df, train_truth_df, on=\"id\")\n",
    "    data = train.values\n",
    "\n",
    "    df = []\n",
    "    y = []\n",
    "\n",
    "    for i in data:\n",
    "        y.append(i[9])\n",
    "\n",
    "    textFeatures = [\"postText\", \"targetCaptions\", \"targetParagraphs\", \"targetTitle\", \"targetKeywords\", \"targetDescription\"]\n",
    "    textColumns = train[textFeatures]\n",
    "    textColumns = textColumns.values.T.tolist()\n",
    "\n",
    "    for everything in textColumns:\n",
    "        for line in everything:\n",
    "            for feature in tqdm(line):\n",
    "                f = clean(feature)\n",
    "                # print(f)\n",
    "                df+=list(f)"
   ]
  },
  {
   "cell_type": "code",
   "execution_count": null,
   "metadata": {},
   "outputs": [],
   "source": [
    "print(df[1])"
   ]
  }
 ],
 "metadata": {
  "kernelspec": {
   "display_name": "Python 3",
   "language": "python",
   "name": "python3"
  },
  "language_info": {
   "codemirror_mode": {
    "name": "ipython",
    "version": 2
   },
   "file_extension": ".py",
   "mimetype": "text/x-python",
   "name": "python",
   "nbconvert_exporter": "python",
   "pygments_lexer": "ipython2",
   "version": "2.7.12"
  }
 },
 "nbformat": 4,
 "nbformat_minor": 2
}
